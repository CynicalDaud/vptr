{
 "cells": [
  {
   "cell_type": "markdown",
   "metadata": {},
   "source": [
    "# Parsing Data"
   ]
  },
  {
   "cell_type": "code",
   "execution_count": 1,
   "metadata": {},
   "outputs": [],
   "source": [
    "import os\n",
    "import tifffile\n",
    "import numpy as np\n",
    "import torch\n",
    "from matplotlib import pyplot as plt"
   ]
  },
  {
   "cell_type": "code",
   "execution_count": 2,
   "metadata": {},
   "outputs": [
    {
     "name": "stdout",
     "output_type": "stream",
     "text": [
      "{'12_baseline_norm.tif': '/Users/lrob/Desktop/4Y/VFFP/mcx/12_baseline_norm.tif', '08_baseline_norm.tif': '/Users/lrob/Desktop/4Y/VFFP/mcx/08_baseline_norm.tif', '11_baseline_norm.tif': '/Users/lrob/Desktop/4Y/VFFP/mcx/11_baseline_norm.tif', '09_baseline_norm.tif': '/Users/lrob/Desktop/4Y/VFFP/mcx/09_baseline_norm.tif', '10_baseline_norm.tif': '/Users/lrob/Desktop/4Y/VFFP/mcx/10_baseline_norm.tif', '07_baseline_norm.tif': '/Users/lrob/Desktop/4Y/VFFP/mcx/07_baseline_norm.tif'}\n",
      "['12_baseline_norm.tif', '08_baseline_norm.tif', '11_baseline_norm.tif', '09_baseline_norm.tif', '10_baseline_norm.tif', '07_baseline_norm.tif']\n"
     ]
    },
    {
     "data": {
      "text/plain": [
       "True"
      ]
     },
     "execution_count": 2,
     "metadata": {},
     "output_type": "execute_result"
    }
   ],
   "source": [
    "__BASE_DIR__ = \"/Users/lrob/Desktop/4Y/VFFP/\"\n",
    "\n",
    "\n",
    "mcs_dir = __BASE_DIR__+\"mcx\"\n",
    "dataset_dirs = {}\n",
    "def map_dir(dir: str, dir_dict: dict):\n",
    "    for item in os.listdir(dir):\n",
    "        if not item.startswith('.'):\n",
    "            dir_dict[item]=(dir+\"/\"+item)\n",
    "\n",
    "map_dir(mcs_dir, dataset_dirs)\n",
    "print(dataset_dirs)\n",
    "samples = list(dataset_dirs.keys())\n",
    "print(samples)\n",
    "torch.has_mps\n"
   ]
  },
  {
   "cell_type": "code",
   "execution_count": 25,
   "metadata": {},
   "outputs": [],
   "source": [
    "from skimage.util import view_as_blocks\n",
    "\n",
    "def clip_sample(f, dims):\n",
    "    h,w = dims\n",
    "    split = np.squeeze(view_as_blocks(f, (f.shape[0], h, w)))\n",
    "    n = split.shape[0]*split.shape[1]\n",
    "    split = np.reshape(split, (n * f.shape[0], h, w))\n",
    "    return split\n",
    "\n",
    "def pad_sample(f, dims):\n",
    "    h,w = dims\n",
    "    pad_h = h - f.shape[1]%h if (f.shape[1]%h != 0) else 0\n",
    "    pad_w = w - f.shape[2]%w if (f.shape[2]%w != 0) else 0\n",
    "    \n",
    "    pad_1 = pad_h//2\n",
    "    pad_2 = pad_h - pad_1\n",
    "    pad_3 = pad_w//2\n",
    "    pad_4 = pad_w - pad_3\n",
    "    \n",
    "    f_pad = np.pad(f, ((0,0), (pad_1,pad_2), (pad_3, pad_4)), 'constant')\n",
    "    return f_pad\n",
    "\n",
    "def crop_sample(f, d):\n",
    "    crop_h_s = (f.shape[1]-d)//2\n",
    "    crop_w_s = (f.shape[2]-d)//2\n",
    "    crop_h_e = (f.shape[1])-crop_h_s\n",
    "    crop_w_e = (f.shape[2])-crop_w_s\n",
    "\n",
    "    return f[:,crop_h_s:crop_h_e,crop_w_s:crop_w_e]\n",
    "\n",
    "def generate_toyMCS(sample, timeCrop_dim = None, spaceCrop = False, spaceCrop_dim = None):\n",
    "        print(\"Selected sample: \")\n",
    "        print(sample)\n",
    "\n",
    "        sample_np = tifffile.memmap(dataset_dirs[sample], mode='r')\n",
    "        sample_np = crop_sample(sample_np, 140)\n",
    "\n",
    "        if timeCrop_dim is None:\n",
    "            timeCrop_dim = sample_np.shape[0]\n",
    "\n",
    "        #if spaceCrop_dim is None:\n",
    "            #spaceCrop_dim = (sample_np.shape[-1],sample_np.shape[-1])\n",
    "\n",
    "        #sample_np = pad_sample(sample_np, spaceCrop_dim)\n",
    "        num_subclips = sample_np.shape[0]//timeCrop_dim\n",
    "\n",
    "        #if spaceCrop:\n",
    "        #        if spaceCrop_dim is None:\n",
    "        #                raise ValueError('Unspecified spaceCrop_dim (eg. (64,64) ).')\n",
    "        #        sample_np = clip_sample(sample_np, spaceCrop_dim)\n",
    "\n",
    "        dataset = np.expand_dims(sample_np, -3)\n",
    "        clips = np.empty((2,num_subclips,2), dtype=np.uint64)\n",
    "\n",
    "        for subclip_idx in range(num_subclips):\n",
    "                clips[0][subclip_idx][0] = subclip_idx * timeCrop_dim\n",
    "                clips[0][subclip_idx][1] = int(timeCrop_dim//2)\n",
    "                clips[1][subclip_idx][1] = int(timeCrop_dim//2)\n",
    "                clips[1][subclip_idx][0] = clips[0][subclip_idx][0]+clips[0][subclip_idx][1]+1\n",
    "        \n",
    "        print(\"dataset.shape = \"+str(dataset.shape))\n",
    "        print(\"clips.shape = \"+str(clips.shape))\n",
    "        print()\n",
    "        return dataset, clips"
   ]
  },
  {
   "cell_type": "code",
   "execution_count": 26,
   "metadata": {},
   "outputs": [
    {
     "name": "stdout",
     "output_type": "stream",
     "text": [
      "Selected sample: \n",
      "12_baseline_norm.tif\n",
      "dataset.shape = (29000, 1, 140, 140)\n",
      "clips.shape = (2, 290, 2)\n",
      "\n",
      "Selected sample: \n",
      "12_baseline_norm.tif\n",
      "dataset.shape = (29000, 1, 140, 140)\n",
      "clips.shape = (2, 290, 2)\n",
      "\n",
      "Selected sample: \n",
      "12_baseline_norm.tif\n",
      "dataset.shape = (29000, 1, 140, 140)\n",
      "clips.shape = (2, 290, 2)\n",
      "\n"
     ]
    }
   ],
   "source": [
    "d_train, c_train = generate_toyMCS(samples[0], timeCrop_dim=100)\n",
    "\n",
    "d_test, c_test = generate_toyMCS(samples[0], timeCrop_dim=100)\n",
    "\n",
    "d_val, c_val = generate_toyMCS(samples[0], timeCrop_dim=100)\n",
    "\n"
   ]
  },
  {
   "cell_type": "code",
   "execution_count": 21,
   "metadata": {},
   "outputs": [],
   "source": [
    "np.savez(__BASE_DIR__+\"VFFP/ToyMCS/nxn/toy-MCS-train.npz\", input_raw_data = d_train, clips = c_train)\n",
    "np.savez(__BASE_DIR__+\"VFFP/ToyMCS/nxn/toy-MCS-test.npz\", input_raw_data = d_test, clips = c_test)\n",
    "np.savez(__BASE_DIR__+\"VFFP/ToyMCS/nxn/toy-MCS-val.npz\", input_raw_data = d_val, clips = c_val)"
   ]
  },
  {
   "cell_type": "code",
   "execution_count": 22,
   "metadata": {},
   "outputs": [
    {
     "name": "stdout",
     "output_type": "stream",
     "text": [
      "0.5318002\n",
      "0.5318002\n",
      "0.5318002\n"
     ]
    }
   ],
   "source": [
    "print(np.std(d_train))\n",
    "print(np.std(d_test))\n",
    "print(np.std(d_val))\n",
    "\n",
    "print(np.var(d_train))\n",
    "print(np.var(d_test))\n",
    "print(np.var(d_val))"
   ]
  },
  {
   "cell_type": "code",
   "execution_count": 5,
   "metadata": {},
   "outputs": [
    {
     "ename": "NameError",
     "evalue": "name 'sample_np_split' is not defined",
     "output_type": "error",
     "traceback": [
      "\u001b[0;31m---------------------------------------------------------------------------\u001b[0m",
      "\u001b[0;31mNameError\u001b[0m                                 Traceback (most recent call last)",
      "Cell \u001b[0;32mIn [5], line 2\u001b[0m\n\u001b[1;32m      1\u001b[0m \u001b[39mwith\u001b[39;00m tifffile\u001b[39m.\u001b[39mTiffWriter(\u001b[39m'\u001b[39m\u001b[39mtemp.tif\u001b[39m\u001b[39m'\u001b[39m) \u001b[39mas\u001b[39;00m tif:\n\u001b[0;32m----> 2\u001b[0m     \u001b[39mfor\u001b[39;00m frame \u001b[39min\u001b[39;00m sample_np_split[\u001b[39m0\u001b[39m]:\n\u001b[1;32m      3\u001b[0m         tif\u001b[39m.\u001b[39mwrite(frame, contiguous\u001b[39m=\u001b[39m\u001b[39mTrue\u001b[39;00m)\n",
      "\u001b[0;31mNameError\u001b[0m: name 'sample_np_split' is not defined"
     ]
    }
   ],
   "source": [
    "with tifffile.TiffWriter('temp.tif') as tif:\n",
    "    for frame in sample_np_split[0]:\n",
    "        tif.write(frame, contiguous=True)"
   ]
  },
  {
   "cell_type": "code",
   "execution_count": null,
   "metadata": {},
   "outputs": [],
   "source": []
  }
 ],
 "metadata": {
  "kernelspec": {
   "display_name": "Python 3.10.6 ('base')",
   "language": "python",
   "name": "python3"
  },
  "language_info": {
   "codemirror_mode": {
    "name": "ipython",
    "version": 3
   },
   "file_extension": ".py",
   "mimetype": "text/x-python",
   "name": "python",
   "nbconvert_exporter": "python",
   "pygments_lexer": "ipython3",
   "version": "3.10.6"
  },
  "vscode": {
   "interpreter": {
    "hash": "c6e4e9f98eb68ad3b7c296f83d20e6de614cb42e90992a65aa266555a3137d0d"
   }
  }
 },
 "nbformat": 4,
 "nbformat_minor": 1
}
