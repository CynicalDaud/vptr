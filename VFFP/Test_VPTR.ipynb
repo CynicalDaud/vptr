{
 "cells": [
  {
   "cell_type": "markdown",
   "id": "32231bde",
   "metadata": {},
   "source": [
    "### Test the trained VPTR"
   ]
  },
  {
   "cell_type": "markdown",
   "id": "e30c7a89",
   "metadata": {},
   "source": []
  },
  {
   "cell_type": "code",
   "execution_count": 1,
   "id": "04705f38",
   "metadata": {},
   "outputs": [
    {
     "data": {
      "text/plain": [
       "True"
      ]
     },
     "execution_count": 1,
     "metadata": {},
     "output_type": "execute_result"
    }
   ],
   "source": [
    "import torch\n",
    "import torch.nn as nn\n",
    "import torch.optim as optim\n",
    "import torchvision.transforms as transforms\n",
    "from torch.utils.data import Dataset, DataLoader, random_split\n",
    "from torch.utils.tensorboard import SummaryWriter\n",
    "import torch.nn.functional as F\n",
    "\n",
    "from pathlib import Path\n",
    "import random\n",
    "from datetime import datetime\n",
    "import time\n",
    "\n",
    "from model import VPTREnc, VPTRDec, VPTRDisc, init_weights, VPTRFormerFAR, VPTRFormerNAR\n",
    "from model import GDL, MSELoss, L1Loss, GANLoss\n",
    "from utils import KTHDataset, BAIRDataset, MovingMNISTDataset\n",
    "from utils import VidCenterCrop, VidPad, VidResize, VidNormalize, VidReNormalize, VidCrop, VidRandomHorizontalFlip, VidRandomVerticalFlip, VidToTensor\n",
    "from utils import visualize_batch_clips, save_ckpt, load_ckpt, set_seed, AverageMeters, init_loss_dict, write_summary, resume_training, write_code_files\n",
    "from utils import set_seed, PSNR, SSIM, MSEScore, get_dataloader\n",
    "import lpips\n",
    "import numpy as np\n",
    "\n",
    "\n",
    "from matplotlib import pyplot as plt\n",
    "\n",
    "set_seed(2021)\n",
    "torch.has_mps"
   ]
  },
  {
   "cell_type": "code",
   "execution_count": 2,
   "id": "4168fc75",
   "metadata": {},
   "outputs": [],
   "source": [
    "resume_ckpt = Path('./MovingMNIST_NAR.tar') #The trained Transformer checkpoint file\n",
    "resume_AE_ckpt = Path('./MovingMNIST_AE.tar') #The trained AutoEncoder checkpoint file\n",
    "num_past_frames = 10\n",
    "num_future_frames = 10\n",
    "encH, encW, encC = 8, 8, 528\n",
    "TSLMA_flag = False\n",
    "rpe = True\n",
    "model_flag = 'NAR' #'NAR' for NAR model, 'FAR' for FAR model\n",
    "\n",
    "img_channels = 1 # 1 for KTH and MovingMNIST, 3 for BAIR\n",
    "N = 16\n",
    "device = torch.device('cuda:0'') #mps\n",
    "loss_name_list = ['T_MSE', 'T_GDL', 'T_gan', 'T_total', 'Dtotal', 'Dfake', 'Dreal']"
   ]
  },
  {
   "cell_type": "code",
   "execution_count": 3,
   "id": "87bf488a",
   "metadata": {},
   "outputs": [
    {
     "name": "stderr",
     "output_type": "stream",
     "text": [
      "/opt/homebrew/Caskroom/miniforge/base/lib/python3.10/site-packages/torch/functional.py:478: UserWarning: torch.meshgrid: in an upcoming release, it will be required to pass the indexing argument. (Triggered internally at  /Users/runner/miniforge3/conda-bld/pytorch-recipe_1664817728005/work/aten/src/ATen/native/TensorShape.cpp:2895.)\n",
      "  return _VF.meshgrid(tensors, **kwargs)  # type: ignore[attr-defined]\n",
      "/Users/lrob/Desktop/4Y/Prelim/VPTR/utils/position_encoding.py:39: UserWarning: __floordiv__ is deprecated, and its behavior will change in a future version of pytorch. It currently rounds toward 0 (like the 'trunc' function NOT 'floor'). This results in incorrect rounding for negative values. To keep the current behavior, use torch.div(a, b, rounding_mode='trunc'), or for actual floor division, use torch.div(a, b, rounding_mode='floor').\n",
      "  dim_t = self.temperature ** (2 * (dim_t // 2) / E)\n",
      "/Users/lrob/Desktop/4Y/Prelim/VPTR/utils/position_encoding.py:77: UserWarning: The operator 'aten::cumsum.out' is not currently supported on the MPS backend and will fall back to run on the CPU. This may have performance implications. (Triggered internally at  /Users/runner/miniforge3/conda-bld/pytorch-recipe_1664817728005/work/aten/src/ATen/mps/MPSFallback.mm:11.)\n",
      "  y_embed = torch.ones(N, H, W, dtype=torch.float32, device = \"mps\").cumsum(dim = 1)\n",
      "/Users/lrob/Desktop/4Y/Prelim/VPTR/utils/position_encoding.py:85: UserWarning: __floordiv__ is deprecated, and its behavior will change in a future version of pytorch. It currently rounds toward 0 (like the 'trunc' function NOT 'floor'). This results in incorrect rounding for negative values. To keep the current behavior, use torch.div(a, b, rounding_mode='trunc'), or for actual floor division, use torch.div(a, b, rounding_mode='floor').\n",
      "  dim_t = self.temperature ** (2 * (dim_t // 2) / (E//2))\n",
      "/Users/lrob/Desktop/4Y/Prelim/VPTR/utils/position_encoding.py:148: UserWarning: __floordiv__ is deprecated, and its behavior will change in a future version of pytorch. It currently rounds toward 0 (like the 'trunc' function NOT 'floor'). This results in incorrect rounding for negative values. To keep the current behavior, use torch.div(a, b, rounding_mode='trunc'), or for actual floor division, use torch.div(a, b, rounding_mode='floor').\n",
      "  dim_t = self.temperature ** (2 * (dim_t // 2) / (self.E//3))\n"
     ]
    }
   ],
   "source": [
    "#Set the padding_type to be \"zero\" for BAIR dataset\n",
    "VPTR_Enc = VPTREnc(img_channels, feat_dim = encC, n_downsampling = 3, padding_type = 'reflect').to(device) \n",
    "\n",
    "#Set the padding_type to be \"zero\" for BAIR dataset, set the out_layer to be 'Sigmoid' for MovingMNIST\n",
    "VPTR_Dec = VPTRDec(img_channels, feat_dim = encC, n_downsampling = 3, out_layer = 'Sigmoid', padding_type = 'reflect').to(device) \n",
    "VPTR_Enc = VPTR_Enc.eval()\n",
    "VPTR_Dec = VPTR_Dec.eval()\n",
    "\n",
    "if model_flag == 'NAR':\n",
    "    VPTR_Transformer = VPTRFormerNAR(num_past_frames, num_future_frames, encH=encH, encW = encW, d_model=encC, \n",
    "                                         nhead=8, num_encoder_layers=4, num_decoder_layers=8, dropout=0.1, \n",
    "                                         window_size=4, Spatial_FFN_hidden_ratio=4, TSLMA_flag = TSLMA_flag, rpe=rpe).to(device)\n",
    "else:\n",
    "    VPTR_Transformer = VPTRFormerFAR(num_past_frames, num_future_frames, encH=encH, encW = encW, d_model=encC, \n",
    "                                    nhead=8, num_encoder_layers=12, dropout=0.1, \n",
    "                                    window_size=4, Spatial_FFN_hidden_ratio=4, rpe=rpe).to(device)\n",
    "\n",
    "VPTR_Transformer = VPTR_Transformer.eval()\n",
    "\n",
    "#load the trained autoencoder, we initialize the discriminator from scratch, for a balanced training\n",
    "loss_dict, start_epoch = resume_training({'VPTR_Enc': VPTR_Enc, 'VPTR_Dec': VPTR_Dec}, {}, resume_AE_ckpt, loss_name_list, map_location = torch.device(\"cpu\"))\n",
    "if resume_ckpt is not None:\n",
    "    loss_dict, start_epoch = resume_training({'VPTR_Transformer': VPTR_Transformer}, \n",
    "                                             {}, resume_ckpt, loss_name_list, map_location = torch.device(\"cpu\"))"
   ]
  },
  {
   "cell_type": "markdown",
   "id": "d5e45aa9",
   "metadata": {},
   "source": [
    "_, _, test_loader, renorm_transform = get_dataloader('MNIST', N, './MovingMNIST', test_past_frames = 10, test_future_frames = 10, ngpus = 1, num_workers = 1)"
   ]
  },
  {
   "cell_type": "code",
   "execution_count": 17,
   "id": "9fb80213",
   "metadata": {},
   "outputs": [],
   "source": [
    "def plot_model_result(pred, fig_name, num_frames, n = 2):\n",
    "    \"\"\"\n",
    "    Plot and save figure\n",
    "    \"\"\"\n",
    "    fig, ax = plt.subplots(1, num_frames, figsize = (num_frames, 1))\n",
    "    fig.subplots_adjust(wspace=0., hspace = 0.)\n",
    "\n",
    "    for j in range(num_frames):\n",
    "        ax[j].set_axis_off()\n",
    "        \n",
    "        img = pred[:, j, :, :, :].clone()\n",
    "        img = renorm_transform(img)\n",
    "        img = torch.clamp(img, min = 0., max = 1.)\n",
    "        img = img[n, ...]\n",
    "\n",
    "        img = transforms.ToPILImage()(img)\n",
    "        ax[j].imshow(img, cmap = 'gray')\n",
    "    fig.savefig(f'{fig_name}.pdf', bbox_inches = 'tight')\n",
    "    \n",
    "def FAR_RIL_test_single_iter(sample, VPTR_Enc, VPTR_Dec, VPTR_Transformer, num_pred, device):\n",
    "    \"\"\"\n",
    "    recurrently inference over Latent space, get a worse result\n",
    "    \"\"\"\n",
    "    past_frames, future_frames = sample\n",
    "    past_frames = past_frames.to(device)\n",
    "    future_frames = future_frames.to(device)\n",
    "    assert num_pred == future_frames.shape[1], \"Mismatch between ground truth future frames length and num_pred\"\n",
    "\n",
    "    past_gt_feats = VPTR_Enc(past_frames)\n",
    "    pred_feats = VPTR_Transformer(past_gt_feats)\n",
    "    \n",
    "    pred_frames = VPTR_Dec(pred_feats[:, -1:, ...])\n",
    "    for i in range(1, num_pred):\n",
    "        if i == 1:\n",
    "            input_feats = torch.cat([past_gt_feats, pred_feats[:, -1:, ...]], dim = 1)\n",
    "        elif i < VPTR_Transformer.num_future_frames:\n",
    "            input_feats = torch.cat([input_feats, pred_future_feat], dim = 1)\n",
    "        else:\n",
    "            input_feats = torch.cat([input_feats, pred_future_feat], dim = 1)\n",
    "            input_feats = input_feats[:, 1:, ...]\n",
    "        \n",
    "        pred_feats = VPTR_Transformer(input_feats)\n",
    "        pred_future_frame = VPTR_Dec(pred_feats[:, -1:, ...])\n",
    "        pred_future_feat = pred_feats[:, -1:, ...]\n",
    "        pred_frames = torch.cat([pred_frames, pred_future_frame], dim = 1)\n",
    "    \n",
    "    return pred_frames, future_frames\n",
    "\n",
    "def FAR_RIP_test_single_iter(sample, VPTR_Enc, VPTR_Dec, VPTR_Transformer, num_pred, device):\n",
    "    \"\"\"\n",
    "    recurrently inference over pixel space\n",
    "    \"\"\"\n",
    "    past_frames, future_frames = sample\n",
    "    past_frames = past_frames.to(device)\n",
    "    future_frames = future_frames.to(device)\n",
    "    assert num_pred == future_frames.shape[1], \"Mismatch between ground truth future frames length and num_pred\"\n",
    "\n",
    "    past_gt_feats = VPTR_Enc(past_frames)\n",
    "    pred_feats = VPTR_Transformer(past_gt_feats)\n",
    "    \n",
    "    pred_frames = VPTR_Dec(pred_feats[:, -1:, ...])\n",
    "    for i in range(1, num_pred):\n",
    "        if i == 1:\n",
    "            input_feats = torch.cat([past_gt_feats, pred_feats[:, -1:, ...]], dim = 1)\n",
    "        elif i < VPTR_Transformer.num_future_frames:\n",
    "            input_feats = torch.cat([input_feats, pred_future_feat], dim = 1)\n",
    "        else:\n",
    "            input_feats = torch.cat([input_feats, pred_future_feat], dim = 1)\n",
    "            input_feats = input_feats[:, 1:, ...]\n",
    "        \n",
    "        pred_feats = VPTR_Transformer(input_feats)\n",
    "        pred_future_frame = VPTR_Dec(pred_feats[:, -1:, ...])\n",
    "        pred_future_feat = VPTR_Enc(pred_future_frame)\n",
    "        pred_frames = torch.cat([pred_frames, pred_future_frame], dim = 1)\n",
    "    \n",
    "    return pred_frames, future_frames\n",
    "\n",
    "def NAR_test_single_iter(sample, VPTR_Enc, VPTR_Dec, VPTR_Transformer, num_pred, device):\n",
    "    \"\"\"\n",
    "    NAR model inference function, for the case num_pred is divisible for the num_future_frames of training. e.g. num_pred = 20, num_future_frames = 10\n",
    "    \"\"\"\n",
    "    past_frames, future_frames = sample\n",
    "    past_frames = past_frames.to(device)\n",
    "    future_frames = future_frames.to(device)\n",
    "    assert num_pred == future_frames.shape[1], \"Mismatch between ground truth future frames length and num_pred\"\n",
    "    assert num_pred % VPTR_Transformer.num_future_frames == 0, \"Mismatch of num_pred and trained Transformer\"\n",
    "    \n",
    "    past_gt_feats = VPTR_Enc(past_frames)\n",
    "    \n",
    "    for i in range(0, num_pred//VPTR_Transformer.num_future_frames):\n",
    "        pred_future_feats = VPTR_Transformer(past_gt_feats)\n",
    "        if i == 0:\n",
    "            pred_frames = VPTR_Dec(pred_future_feats)\n",
    "        else:\n",
    "            pred_frames = torch.cat([pred_frames, VPTR_Dec(pred_future_feats)], dim = 1)\n",
    "        past_gt_feats = pred_future_feats\n",
    "        \n",
    "    \n",
    "    return pred_frames, future_frames\n",
    "\n",
    "\n",
    "def NAR_BAIR_2_to_28_test_single_iter(sample, VPTR_Enc, VPTR_Dec, VPTR_Transformer, num_pred, device):\n",
    "    \"\"\"\n",
    "    Specifically for BAIR dataset, 2 -> 28 prediction.\n",
    "    \"\"\"\n",
    "    past_frames, future_frames = sample\n",
    "    past_frames = past_frames.to(device)\n",
    "    future_frames = future_frames.to(device)\n",
    "    assert num_pred == future_frames.shape[1], \"Mismatch between ground truth future frames length and num_pred\"\n",
    "    #assert num_pred % VPTR_Transformer.num_future_frames == 0, \"Mismatch of num_pred and trained Transformer\"\n",
    "    \n",
    "    pred = []\n",
    "    #prediction 1\n",
    "    past_gt_feats = VPTR_Enc(past_frames)\n",
    "    pred_future_feats = VPTR_Transformer(past_gt_feats)\n",
    "    pred_frames = VPTR_Dec(pred_future_feats)\n",
    "    pred.append(pred_frames)\n",
    "    #prediction 2\n",
    "    past_frames = pred_frames[:, -2:, ...]\n",
    "    past_gt_feats = VPTR_Enc(past_frames)\n",
    "    pred_future_feats = VPTR_Transformer(past_gt_feats)\n",
    "    pred_frames = VPTR_Dec(pred_future_feats)\n",
    "    pred.append(pred_frames)\n",
    "    \n",
    "    #prediction 3\n",
    "    past_frames = pred_frames[:, -2:, ...]\n",
    "    past_gt_feats = VPTR_Enc(past_frames)\n",
    "    pred_future_feats = VPTR_Transformer(past_gt_feats)\n",
    "    pred_frames = VPTR_Dec(pred_future_feats)\n",
    "    pred.append(pred_frames[:, 0:-2, ...])\n",
    "    pred_frames = torch.cat(pred, dim = 1)\n",
    "    \n",
    "    return pred_frames, future_frames         "
   ]
  },
  {
   "cell_type": "code",
   "execution_count": 16,
   "id": "4031ff5e",
   "metadata": {},
   "outputs": [
    {
     "ename": "NameError",
     "evalue": "name 'input_feats' is not defined",
     "output_type": "error",
     "traceback": [
      "\u001b[0;31m---------------------------------------------------------------------------\u001b[0m",
      "\u001b[0;31mNameError\u001b[0m                                 Traceback (most recent call last)",
      "Cell \u001b[0;32mIn [16], line 4\u001b[0m\n\u001b[1;32m      1\u001b[0m \u001b[38;5;28;01mfrom\u001b[39;00m \u001b[38;5;21;01mtorchvision\u001b[39;00m \u001b[38;5;28;01mimport\u001b[39;00m models\n\u001b[1;32m      2\u001b[0m \u001b[38;5;28;01mfrom\u001b[39;00m \u001b[38;5;21;01mtorchinfo\u001b[39;00m \u001b[38;5;28;01mimport\u001b[39;00m summary\n\u001b[0;32m----> 4\u001b[0m summary(VPTR_Transformer, input_feats)\n",
      "\u001b[0;31mNameError\u001b[0m: name 'input_feats' is not defined"
     ]
    }
   ],
   "source": [
    "from torchvision import models\n",
    "from torchinfo import summary\n",
    "\n",
    "summary(VPTR_Transformer, input_feats)"
   ]
  },
  {
   "cell_type": "code",
   "execution_count": 20,
   "id": "60acab9b",
   "metadata": {},
   "outputs": [
    {
     "name": "stdout",
     "output_type": "stream",
     "text": [
      "torch.Size([16, 10, 1, 64, 64])\n",
      "torch.Size([16, 10, 1, 64, 64])\n",
      "torch.Size([16, 10, 8, 8, 528])\n",
      "torch.Size([16, 10, 8, 8, 528])\n",
      "torch.Size([16, 10, 8, 8, 528])\n",
      "torch.Size([16, 10, 8, 8, 528])\n"
     ]
    }
   ],
   "source": [
    "sample = next(iter(test_loader))\n",
    "\n",
    "num_pred = 10\n",
    "with torch.no_grad():\n",
    "    pred_frames, gt_frames = NAR_test_single_iter(sample, VPTR_Enc, VPTR_Dec, VPTR_Transformer, num_pred, device)\n"
   ]
  },
  {
   "cell_type": "code",
   "execution_count": 21,
   "id": "8db236a8",
   "metadata": {},
   "outputs": [
    {
     "name": "stdout",
     "output_type": "stream",
     "text": [
      "torch.Size([16, 10, 8, 8, 528])\n",
      "torch.Size([16, 10, 8, 8, 528])\n",
      "torch.Size([16, 10, 8, 8, 528])\n",
      "torch.Size([16, 10, 8, 8, 528])\n",
      "torch.Size([16, 10, 1, 64, 64])\n"
     ]
    }
   ],
   "source": [
    "sample = next(iter(test_loader))\n",
    "num_pred = 10\n",
    "with torch.no_grad():\n",
    "    pred_frames, gt_frames = NAR_test_single_iter(sample, VPTR_Enc, VPTR_Dec, VPTR_Transformer, num_pred, device)\n"
   ]
  },
  {
   "cell_type": "code",
   "execution_count": 34,
   "id": "201a435a",
   "metadata": {},
   "outputs": [
    {
     "data": {
      "image/png": "[encoded data removed]",
      "text/plain": [
       "<Figure size 1000x100 with 10 Axes>"
      ]
     },
     "metadata": {},
     "output_type": "display_data"
    }
   ],
   "source": [
    "plot_model_result(pred_frames, 'pred_nar_mnist', 10, n = 6)"
   ]
  },
  {
   "cell_type": "code",
   "execution_count": 35,
   "id": "06a7237f",
   "metadata": {},
   "outputs": [
    {
     "data": {
      "image/png": "[encoded data removed]",
      "text/plain": [
       "<Figure size 1000x100 with 10 Axes>"
      ]
     },
     "metadata": {},
     "output_type": "display_data"
    }
   ],
   "source": [
    "plot_model_result(gt_frames, 'gt_mnist', 10, n = 6)"
   ]
  },
  {
   "cell_type": "code",
   "execution_count": 36,
   "id": "e7eea76b",
   "metadata": {},
   "outputs": [],
   "source": [
    "import numpy as np\n",
    "from utils import PSNR, SSIM\n",
    "import lpips\n",
    "\n",
    "def pred_ave_metrics(model, data_loader, metric_func, renorm_transform, num_future_frames, num_past_frames, device = 'cuda:0', use_lpips = False, gray_scale = True):\n",
    "    model = model.to(device)\n",
    "    model = model.eval()\n",
    "    ave_metric = np.zeros(num_future_frames)\n",
    "    sample_num = 0\n",
    "\n",
    "    with torch.no_grad():\n",
    "        for idx, sample in enumerate(data_loader, 0):\n",
    "            past_frames, future_frames = sample\n",
    "            past_frames = past_frames.to(device)\n",
    "            future_frames = future_frames.to(device)\n",
    "            pred = model(past_frames)\n",
    "            for i in range(0, num_future_frames):\n",
    "                pred_t = pred[:, i, ...]\n",
    "                future_frames_t = future_frames[:, i, ...]\n",
    "                \n",
    "                if not use_lpips:\n",
    "                    pred_t = renorm_transform(pred_t)\n",
    "                    future_frames_t = renorm_transform(future_frames_t)\n",
    "                elif use_lpips and gray_scale:\n",
    "                    pred_t = pred_t.repeat(1, 3, 1, 1)\n",
    "                    future_frames_t = future_frames_t.repeat(1, 3, 1, 1)\n",
    "                    \n",
    "                m = metric_func(pred_t, future_frames_t)*pred_t.shape[0]\n",
    "                try:\n",
    "                    ave_metric[i] += m.mean()\n",
    "                except AttributeError:\n",
    "                    ave_metric[i] += m\n",
    "                \n",
    "            sample_num += pred.shape[0]\n",
    "\n",
    "    ave_metric = ave_metric / sample_num\n",
    "    return ave_metric"
   ]
  },
  {
   "cell_type": "code",
   "execution_count": null,
   "id": "fa8bde2c",
   "metadata": {},
   "outputs": [],
   "source": [
    "pre_ave_metrics"
   ]
  }
 ],
 "metadata": {
  "kernelspec": {
   "display_name": "Python 3 (ipykernel)",
   "language": "python",
   "name": "python3"
  },
  "language_info": {
   "codemirror_mode": {
    "name": "ipython",
    "version": 3
   },
   "file_extension": ".py",
   "mimetype": "text/x-python",
   "name": "python",
   "nbconvert_exporter": "python",
   "pygments_lexer": "ipython3",
   "version": "3.10.6"
  }
 },
 "nbformat": 4,
 "nbformat_minor": 5
}
